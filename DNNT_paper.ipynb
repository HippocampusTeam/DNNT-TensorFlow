{
 "nbformat": 4,
 "nbformat_minor": 0,
 "metadata": {
  "colab": {
   "name": "DNNT_graph.ipynb",
   "provenance": [],
   "collapsed_sections": [],
   "mount_file_id": "1mcx_z0uWCu7voveaMMUnoh6bq92Cl8cf",
   "authorship_tag": "ABX9TyMtY7YVnr0cTvvYAvwYPhqm",
   "include_colab_link": true
  },
  "kernelspec": {
   "name": "python3",
   "language": "python",
   "display_name": "Python 3"
  }
 },
 "cells": [
  {
   "cell_type": "markdown",
   "metadata": {
    "id": "view-in-github",
    "colab_type": "text"
   },
   "source": [
    "<a href=\"https://colab.research.google.com/github/HippocampusTeam/DNNT-TensorFlow/blob/graph/DNNT_graph.ipynb\" target=\"_parent\"><img src=\"https://colab.research.google.com/assets/colab-badge.svg\" alt=\"Open In Colab\"/></a>"
   ]
  },
  {
   "cell_type": "markdown",
   "metadata": {
    "id": "emU9jB5aUujb"
   },
   "source": [
    "Imports"
   ]
  },
  {
   "cell_type": "code",
   "metadata": {
    "id": "_-xwYfEVUWjt"
   },
   "source": [
    "import csv\n",
    "\n",
    "import tensorflow as tf\n",
    "import numpy as np\n",
    "import matplotlib.pyplot as plt\n",
    "from tqdm import tqdm\n",
    "\n",
    "from sklearn.model_selection import train_test_split"
   ],
   "execution_count": 41,
   "outputs": []
  },
  {
   "cell_type": "code",
   "execution_count": 42,
   "outputs": [],
   "source": [
    "%matplotlib inline\n",
    "plt.style.use('Solarize_Light2')\n",
    "\n",
    "from matplotlib import rcParams\n",
    "rcParams['figure.figsize'] = 17, 8\n",
    "\n",
    "%config InlineBackend.figure_format = 'retina'"
   ],
   "metadata": {
    "collapsed": false,
    "pycharm": {
     "name": "#%%\n"
    }
   }
  },
  {
   "cell_type": "code",
   "metadata": {
    "id": "eZozTrskXN0Q"
   },
   "source": [
    "# Load data\n",
    "\n",
    "is_local = True\n",
    "\n",
    "if not is_local:\n",
    "    from google.colab import drive\n",
    "    drive.mount('/content/drive')\n",
    "\n",
    "# Read data in from file\n",
    "with open('./banknotes/banknotes.csv' if is_local else '/content/drive/MyDrive/DNNT/data/banknotes.csv') as f:\n",
    "    reader = csv.reader(f)\n",
    "    next(reader)\n",
    "\n",
    "    data = []\n",
    "    for row in reader:\n",
    "        data.append({\n",
    "            \"evidence\": [float(cell) for cell in row[:4]],\n",
    "            \"label\": 1 if row[4] == \"0\" else 0\n",
    "        })\n",
    "\n",
    "# Separate data into training and testing groups\n",
    "evidence = [row[\"evidence\"] for row in data]\n",
    "labels = [row[\"label\"] for row in data]\n",
    "X_training, X_testing, y_training, y_testing = train_test_split(\n",
    "    evidence, labels, test_size=0.2\n",
    ")"
   ],
   "execution_count": 43,
   "outputs": []
  },
  {
   "cell_type": "code",
   "execution_count": 44,
   "outputs": [],
   "source": [
    "def get_loss_for_weight_value(model, index, x_train, y_train, value):\n",
    "    weights = model.get_weights()\n",
    "\n",
    "    if len(index) == 3:\n",
    "        weights[index[0]][index[1]][index[2]] = value\n",
    "    else:\n",
    "        weights[index[0]][index[1]] = value\n",
    "\n",
    "    model.set_weights(weights)\n",
    "    predictions = model.predict(x_train)\n",
    "    loss = tf.keras.losses.binary_crossentropy(y_train, predictions)\n",
    "    return np.mean(loss)\n",
    "\n",
    "\n",
    "def get_loss_range_for_weight(model, index):\n",
    "    x, y = list(), list()\n",
    "\n",
    "    for value in np.linspace(-2, 2, 50):\n",
    "        loss = get_loss_for_weight_value(model, index, X_testing, y_testing, value)\n",
    "        x.append(value)\n",
    "        y.append(loss)\n",
    "\n",
    "    min_index = y.index(min(y))\n",
    "    return x, y, min_index\n",
    "\n",
    "\n",
    "def plot_weight_2d(model, ax, index):\n",
    "    model_copy = tf.keras.models.clone_model(model)\n",
    "    x, y, min_index = get_loss_range_for_weight(model_copy, index)\n",
    "    # print('The local minimum weight value is ' + str(x[min_index]) + ', and the loss is ' + str(y[min_index]))\n",
    "\n",
    "    ax.plot(x, y)\n",
    "    ax.set(xlabel='weight', ylabel='loss')\n",
    "\n",
    "    # Hide x labels and tick labels for top plots and y ticks for right plots.\n",
    "    ax.label_outer()\n",
    "\n",
    "\n",
    "def plot_all_weights_2d(model):\n",
    "    fig, axs = plt.subplots(5, 5)\n",
    "\n",
    "    c = 0\n",
    "    w = model.get_weights()\n",
    "    for i in tqdm(range(len(w))):\n",
    "        for j in range(len(w[i])):\n",
    "            if isinstance(w[i][j], np.ndarray):\n",
    "                for k in range(len(w[i][j])):\n",
    "                    plot_weight_2d(model, axs[c // 5, c % 5], (i, j, k))\n",
    "                    c += 1\n",
    "            else:\n",
    "                plot_weight_2d(model, axs[c // 5, c % 5], (i, j))\n",
    "                c += 1\n",
    "\n",
    "# How to call:\n",
    "# fig = plt.figure()\n",
    "# ax = fig.add_subplot()\n",
    "# plot_weight_2d(test_model, ax, (0, 2, 1))"
   ],
   "metadata": {
    "collapsed": false,
    "pycharm": {
     "name": "#%%\n"
    }
   }
  },
  {
   "cell_type": "code",
   "metadata": {
    "id": "gpyF6tfx_cRs"
   },
   "source": [
    "def get_loss_for_weights_values(model, index1, index2, x_train, y_train, n, m):\n",
    "    weights = model.get_weights()\n",
    "\n",
    "    if len(index1) == 3:\n",
    "        weights[index1[0]][index1[1]][index1[2]] = n\n",
    "    else:\n",
    "        weights[index1[0]][index1[1]] = n\n",
    "\n",
    "    if len(index2) == 3:\n",
    "        weights[index2[0]][index2[1]][index2[2]] = m\n",
    "    else:\n",
    "        weights[index2[0]][index2[1]] = m\n",
    "\n",
    "    model.set_weights(weights)\n",
    "    predictions = model.predict(x_train)\n",
    "    loss = tf.keras.losses.binary_crossentropy(y_train, predictions)\n",
    "    return np.mean(loss)\n",
    "\n",
    "\n",
    "def get_loss_range_for_weights(model, index1, index2, add_plain=True):\n",
    "    x, y, z = list(), list(), list()\n",
    "    x_p, y_p, z_p = list(), list(), list()\n",
    "\n",
    "    for value_x in tqdm(np.linspace(-2, 2, 50)):\n",
    "        for value_y in np.linspace(-2, 2, 50):\n",
    "            loss = get_loss_for_weights_values(model, index1, index2, X_testing, y_testing, value_x, value_y)\n",
    "            x.append(value_x)\n",
    "            y.append(value_y)\n",
    "            z.append(loss)\n",
    "\n",
    "    if add_plain:\n",
    "        for value in tqdm(np.linspace(-2, 2, 50)):\n",
    "            loss = get_loss_for_weights_values(model, index1, index2, X_testing, y_testing, value, 0)\n",
    "            x_p.append(value)\n",
    "            y_p.append(0)\n",
    "            z_p.append(loss)\n",
    "\n",
    "    m = z.index(min(z))\n",
    "    return (x, y, z), (x_p, y_p, z_p), m\n",
    "\n",
    "\n",
    "def plot_weights_3d(model, ax, index1, index2, add_plain=True, view_cords=None):\n",
    "    model_copy = tf.keras.models.clone_model(model)\n",
    "    (x, y, z), (x_p, y_p, z_p), m = get_loss_range_for_weights(model_copy, index1, index2, add_plain=add_plain)\n",
    "\n",
    "    # print('The local minimum weight values are ' + str(x[m]) + ' and ' + str(y[m]) + ', and the loss is ' + str(z[m]))\n",
    "\n",
    "    ax.plot_trisurf(x, y, z, cmap='viridis', edgecolor='none')\n",
    "    ax.plot3D(x_p, y_p, z_p, 'red', linewidth=5)\n",
    "\n",
    "    ax.set_xlabel('weight 1')\n",
    "    ax.set_ylabel('weight 2')\n",
    "    ax.set_zlabel('loss')\n",
    "\n",
    "    if view_cords is not None:\n",
    "        ax.view_init(view_cords[0], view_cords[1])\n",
    "\n",
    "# How to call:\n",
    "# fig = plt.figure()\n",
    "# ax = fig.add_subplot(projection='3d')\n",
    "# plot_weights_3d(test_model, ax, (0, 0, 0), (0, 2, 1))"
   ],
   "execution_count": 45,
   "outputs": []
  },
  {
   "cell_type": "markdown",
   "source": [
    "# Simulations for paper"
   ],
   "metadata": {
    "collapsed": false,
    "pycharm": {
     "name": "#%% md\n"
    }
   }
  },
  {
   "cell_type": "code",
   "execution_count": 46,
   "outputs": [
    {
     "name": "stdout",
     "output_type": "stream",
     "text": [
      "Epoch 1/15\n",
      "35/35 [==============================] - 0s 588us/step - loss: 1.4319 - accuracy: 0.4568\b\b\b\b\b\b\b\b\b\b\b\b\b\b\b\b\b\b\b\b\b\b\b\b\b\b\b\b\b\b\b\b\b\b\b\b\b\b\b\b\b\b\b\b\b\b\b\b\b\b\b\b\b\b\b\b\b\b\b\b\b\b\b\b\b\b\b\b\b\b\b\b\b\b\b\b\b\b\n",
      "Epoch 2/15\n",
      "35/35 [==============================] - 0s 559us/step - loss: 1.3137 - accuracy: 0.4629\b\b\b\b\b\b\b\b\b\b\b\b\b\b\b\b\b\b\b\b\b\b\b\b\b\b\b\b\b\b\b\b\b\b\b\b\b\b\b\b\b\b\b\b\b\b\b\b\b\b\b\b\b\b\b\b\b\b\b\b\b\b\b\b\b\b\b\b\b\b\b\b\b\b\b\b\n",
      "Epoch 3/15\n",
      "35/35 [==============================] - 0s 559us/step - loss: 1.2739 - accuracy: 0.4636\b\b\b\b\b\b\b\b\b\b\b\b\b\b\b\b\b\b\b\b\b\b\b\b\b\b\b\b\b\b\b\b\b\b\b\b\b\b\b\b\b\b\b\b\b\b\b\b\b\b\b\b\b\b\b\b\b\b\b\b\b\b\b\b\b\b\b\b\b\b\b\b\b\b\b\b\n",
      "Epoch 4/15\n",
      "35/35 [==============================] - 0s 559us/step - loss: 1.1278 - accuracy: 0.4606\b\b\b\b\b\b\b\b\b\b\b\b\b\b\b\b\b\b\b\b\b\b\b\b\b\b\b\b\b\b\b\b\b\b\b\b\b\b\b\b\b\b\b\b\b\b\b\b\b\b\b\b\b\b\b\b\b\b\b\b\b\b\b\b\b\b\b\b\b\b\b\b\b\b\b\b\n",
      "Epoch 5/15\n",
      "35/35 [==============================] - 0s 530us/step - loss: 1.0104 - accuracy: 0.4783\b\b\b\b\b\b\b\b\b\b\b\b\b\b\b\b\b\b\b\b\b\b\b\b\b\b\b\b\b\b\b\b\b\b\b\b\b\b\b\b\b\b\b\b\b\b\b\b\b\b\b\b\b\b\b\b\b\b\b\b\b\b\b\b\b\b\b\b\b\b\b\b\b\b\b\b\n",
      "Epoch 6/15\n",
      "35/35 [==============================] - 0s 559us/step - loss: 0.9706 - accuracy: 0.4925\b\b\b\b\b\b\b\b\b\b\b\b\b\b\b\b\b\b\b\b\b\b\b\b\b\b\b\b\b\b\b\b\b\b\b\b\b\b\b\b\b\b\b\b\b\b\b\b\b\b\b\b\b\b\b\b\b\b\b\b\b\b\b\b\b\b\b\b\b\b\b\b\b\b\b\b\n",
      "Epoch 7/15\n",
      "35/35 [==============================] - 0s 618us/step - loss: 0.8847 - accuracy: 0.4964\b\b\b\b\b\b\b\b\b\b\b\b\b\b\b\b\b\b\b\b\b\b\b\b\b\b\b\b\b\b\b\b\b\b\b\b\b\b\b\b\b\b\b\b\b\b\b\b\b\b\b\b\b\b\b\b\b\b\b\b\b\b\b\b\b\b\b\b\b\b\b\b\b\b\b\b\n",
      "Epoch 8/15\n",
      "35/35 [==============================] - 0s 559us/step - loss: 0.8585 - accuracy: 0.5332\b\b\b\b\b\b\b\b\b\b\b\b\b\b\b\b\b\b\b\b\b\b\b\b\b\b\b\b\b\b\b\b\b\b\b\b\b\b\b\b\b\b\b\b\b\b\b\b\b\b\b\b\b\b\b\b\b\b\b\b\b\b\b\b\b\b\b\b\b\b\b\b\b\b\b\b\n",
      "Epoch 9/15\n",
      "35/35 [==============================] - 0s 588us/step - loss: 0.7739 - accuracy: 0.5765\b\b\b\b\b\b\b\b\b\b\b\b\b\b\b\b\b\b\b\b\b\b\b\b\b\b\b\b\b\b\b\b\b\b\b\b\b\b\b\b\b\b\b\b\b\b\b\b\b\b\b\b\b\b\b\b\b\b\b\b\b\b\b\b\b\b\b\b\b\b\b\b\b\b\b\b\n",
      "Epoch 10/15\n",
      "35/35 [==============================] - 0s 559us/step - loss: 0.7523 - accuracy: 0.5671\b\b\b\b\b\b\b\b\b\b\b\b\b\b\b\b\b\b\b\b\b\b\b\b\b\b\b\b\b\b\b\b\b\b\b\b\b\b\b\b\b\b\b\b\b\b\b\b\b\b\b\b\b\b\b\b\b\b\b\b\b\b\b\b\b\b\b\b\b\b\b\b\b\b\b\b\n",
      "Epoch 11/15\n",
      "35/35 [==============================] - 0s 559us/step - loss: 0.7309 - accuracy: 0.6010\b\b\b\b\b\b\b\b\b\b\b\b\b\b\b\b\b\b\b\b\b\b\b\b\b\b\b\b\b\b\b\b\b\b\b\b\b\b\b\b\b\b\b\b\b\b\b\b\b\b\b\b\b\b\b\b\b\b\b\b\b\b\b\b\b\b\b\b\b\b\b\b\b\b\b\b\n",
      "Epoch 12/15\n",
      "35/35 [==============================] - 0s 618us/step - loss: 0.6993 - accuracy: 0.6166\b\b\b\b\b\b\b\b\b\b\b\b\b\b\b\b\b\b\b\b\b\b\b\b\b\b\b\b\b\b\b\b\b\b\b\b\b\b\b\b\b\b\b\b\b\b\b\b\b\b\b\b\b\b\b\b\b\b\b\b\b\b\b\b\b\b\b\b\b\b\b\b\b\b\b\b\n",
      "Epoch 13/15\n",
      "35/35 [==============================] - 0s 647us/step - loss: 0.6855 - accuracy: 0.6306\b\b\b\b\b\b\b\b\b\b\b\b\b\b\b\b\b\b\b\b\b\b\b\b\b\b\b\b\b\b\b\b\b\b\b\b\b\b\b\b\b\b\b\b\b\b\b\b\b\b\b\b\b\b\b\b\b\b\b\b\b\b\b\b\b\b\b\b\b\b\b\b\b\b\b\b\n",
      "Epoch 14/15\n",
      "35/35 [==============================] - 0s 647us/step - loss: 0.6676 - accuracy: 0.6207\b\b\b\b\b\b\b\b\b\b\b\b\b\b\b\b\b\b\b\b\b\b\b\b\b\b\b\b\b\b\b\b\b\b\b\b\b\b\b\b\b\b\b\b\b\b\b\b\b\b\b\b\b\b\b\b\b\b\b\b\b\b\b\b\b\b\b\b\b\b\b\b\b\b\b\b\n",
      "Epoch 15/15\n",
      "35/35 [==============================] - 0s 647us/step - loss: 0.6355 - accuracy: 0.6423\b\b\b\b\b\b\b\b\b\b\b\b\b\b\b\b\b\b\b\b\b\b\b\b\b\b\b\b\b\b\b\b\b\b\b\b\b\b\b\b\b\b\b\b\b\b\b\b\b\b\b\b\b\b\b\b\b\b\b\b\b\b\b\b\b\b\b\b\b\b\b\b\b\b\b\b\n"
     ]
    },
    {
     "data": {
      "text/plain": "<tensorflow.python.keras.callbacks.History at 0x1cd09c29d30>"
     },
     "execution_count": 46,
     "metadata": {},
     "output_type": "execute_result"
    }
   ],
   "source": [
    "# Create a neural network\n",
    "m1 = tf.keras.models.Sequential()\n",
    "m1.add(tf.keras.layers.Dense(3, input_shape=(4,), activation=\"relu\"))\n",
    "m1.add(tf.keras.layers.Dense(1, activation=\"sigmoid\"))\n",
    "\n",
    "# Train neural network\n",
    "m1.compile(\n",
    "    optimizer=\"adam\",\n",
    "    loss=\"binary_crossentropy\",\n",
    "    metrics=[\"accuracy\"]\n",
    ")\n",
    "\n",
    "m1.fit(X_training, y_training, epochs=15)\n",
    "#\n",
    "# # Evaluate how well model performs\n",
    "# model.evaluate(X_testing, y_testing, verbose=2)"
   ],
   "metadata": {
    "collapsed": false,
    "pycharm": {
     "name": "#%%\n"
    }
   }
  },
  {
   "cell_type": "code",
   "execution_count": 47,
   "outputs": [
    {
     "name": "stdout",
     "output_type": "stream",
     "text": [
      "[array([[ 0.0906772 ,  0.6123259 , -0.07026011],\n",
      "       [-0.36236846, -0.6307324 , -0.5441992 ],\n",
      "       [ 0.63791263,  0.09472495, -0.70184577],\n",
      "       [ 0.03127996, -0.14101785,  0.40685135]], dtype=float32), array([-0.28035495,  0.29820636, -0.37779734], dtype=float32), array([[-0.7295837 ],\n",
      "       [ 0.78258705],\n",
      "       [ 0.502317  ]], dtype=float32), array([0.27078667], dtype=float32)]\n"
     ]
    }
   ],
   "source": [
    "print(m1.get_weights())\n"
   ],
   "metadata": {
    "collapsed": false,
    "pycharm": {
     "name": "#%%\n"
    }
   }
  }
 ]
}